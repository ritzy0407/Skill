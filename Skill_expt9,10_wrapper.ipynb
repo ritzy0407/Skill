{
  "nbformat": 4,
  "nbformat_minor": 0,
  "metadata": {
    "colab": {
      "provenance": [],
      "include_colab_link": true
    },
    "kernelspec": {
      "name": "python3",
      "display_name": "Python 3"
    },
    "language_info": {
      "name": "python"
    }
  },
  "cells": [
    {
      "cell_type": "markdown",
      "metadata": {
        "id": "view-in-github",
        "colab_type": "text"
      },
      "source": [
        "<a href=\"https://colab.research.google.com/github/ritzy0407/Skill/blob/main/Skill_expt9%2C10_wrapper.ipynb\" target=\"_parent\"><img src=\"https://colab.research.google.com/assets/colab-badge.svg\" alt=\"Open In Colab\"/></a>"
      ]
    },
    {
      "cell_type": "markdown",
      "source": [
        "rfe recursive feature selection"
      ],
      "metadata": {
        "id": "3aRxw_WlbgSB"
      }
    },
    {
      "cell_type": "code",
      "execution_count": null,
      "metadata": {
        "colab": {
          "base_uri": "https://localhost:8080/"
        },
        "id": "DyKl6sg4RTkS",
        "outputId": "e95bcebc-01e0-4c83-ce34-6490d0871f5e"
      },
      "outputs": [
        {
          "output_type": "stream",
          "name": "stdout",
          "text": [
            "Selected Features: Index(['Pregnancies', 'Glucose', 'BMI', 'DiabetesPedigreeFunction', 'Age'], dtype='object')\n"
          ]
        }
      ],
      "source": [
        "from sklearn.feature_selection import RFE\n",
        "from sklearn.linear_model import LogisticRegression\n",
        "from sklearn.model_selection import train_test_split\n",
        "import pandas as pd\n",
        "\n",
        "# Load dataset\n",
        "df = pd.read_csv(\"/content/drive/MyDrive/dataset/diabetes.csv\")  # Modify with your actual dataset path\n",
        "X = df.drop(columns=['Outcome'])\n",
        "y = df['Outcome']\n",
        "\n",
        "# Split data\n",
        "X_train, X_test, y_train, y_test = train_test_split(X, y, test_size=0.2, random_state=42)\n",
        "\n",
        "# Use RFE with Logistic Regression\n",
        "model = LogisticRegression(max_iter=500)\n",
        "rfe = RFE(model, n_features_to_select=5)\n",
        "rfe.fit(X_train, y_train)\n",
        "\n",
        "# Selected features\n",
        "selected_features = X.columns[rfe.support_]\n",
        "print(\"Selected Features:\", selected_features)\n"
      ]
    },
    {
      "cell_type": "markdown",
      "source": [
        "forward selection"
      ],
      "metadata": {
        "id": "hMcFTYmwbelG"
      }
    },
    {
      "cell_type": "code",
      "source": [
        "from sklearn.feature_selection import SequentialFeatureSelector\n",
        "from sklearn.ensemble import RandomForestClassifier\n",
        "\n",
        "# Use SFS with Random Forest\n",
        "model = RandomForestClassifier(n_estimators=100, random_state=42)\n",
        "sfs = SequentialFeatureSelector(model, n_features_to_select=5, direction='forward')\n",
        "sfs.fit(X_train, y_train)\n",
        "\n",
        "# Selected features\n",
        "selected_features = X.columns[sfs.get_support()]\n",
        "print(\"Selected Features:\", selected_features)\n"
      ],
      "metadata": {
        "colab": {
          "base_uri": "https://localhost:8080/"
        },
        "id": "f4emtOIuUdAg",
        "outputId": "86c3eeac-bd39-4512-9875-e100ce196d09"
      },
      "execution_count": null,
      "outputs": [
        {
          "output_type": "stream",
          "name": "stdout",
          "text": [
            "Selected Features: Index(['Pregnancies', 'Glucose', 'Insulin', 'BMI', 'DiabetesPedigreeFunction'], dtype='object')\n"
          ]
        }
      ]
    },
    {
      "cell_type": "markdown",
      "source": [
        "Backward selection"
      ],
      "metadata": {
        "id": "WrhVQzUgbb8z"
      }
    },
    {
      "cell_type": "code",
      "source": [
        "from sklearn.feature_selection import SequentialFeatureSelector\n",
        "from sklearn.ensemble import RandomForestClassifier\n",
        "\n",
        "# Use SFS with Random Forest\n",
        "model = RandomForestClassifier(n_estimators=100, random_state=42)\n",
        "sfs = SequentialFeatureSelector(model, n_features_to_select=5, direction='backward')\n",
        "sfs.fit(X_train, y_train)\n",
        "\n",
        "# Selected features\n",
        "selected_features = X.columns[sfs.get_support()]\n",
        "print(\"Selected Features:\", selected_features)\n"
      ],
      "metadata": {
        "colab": {
          "base_uri": "https://localhost:8080/"
        },
        "id": "s9giLLOobMuw",
        "outputId": "06c44b1d-2b17-4cb3-8e92-be11cdc8d61f"
      },
      "execution_count": null,
      "outputs": [
        {
          "output_type": "stream",
          "name": "stdout",
          "text": [
            "Selected Features: Index(['Glucose', 'BloodPressure', 'Insulin', 'BMI', 'Age'], dtype='object')\n"
          ]
        }
      ]
    }
  ]
}