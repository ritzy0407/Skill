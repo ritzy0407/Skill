{
  "nbformat": 4,
  "nbformat_minor": 0,
  "metadata": {
    "colab": {
      "provenance": [],
      "authorship_tag": "ABX9TyPv1oh6cop27BxezBjV3xXt",
      "include_colab_link": true
    },
    "kernelspec": {
      "name": "python3",
      "display_name": "Python 3"
    },
    "language_info": {
      "name": "python"
    }
  },
  "cells": [
    {
      "cell_type": "markdown",
      "metadata": {
        "id": "view-in-github",
        "colab_type": "text"
      },
      "source": [
        "<a href=\"https://colab.research.google.com/github/ritzy0407/Skill/blob/main/Skill_Expt4.ipynb\" target=\"_parent\"><img src=\"https://colab.research.google.com/assets/colab-badge.svg\" alt=\"Open In Colab\"/></a>"
      ]
    },
    {
      "cell_type": "code",
      "execution_count": 1,
      "metadata": {
        "colab": {
          "base_uri": "https://localhost:8080/"
        },
        "id": "Diw_zVH0mTBX",
        "outputId": "a6c3eedd-45d1-40c7-b5c9-042fb27cd99b"
      },
      "outputs": [
        {
          "output_type": "stream",
          "name": "stdout",
          "text": [
            "Original Data (first 5 rows):\n",
            "   sepal length (cm)  sepal width (cm)  petal length (cm)  petal width (cm)\n",
            "0                5.1               3.5                1.4               0.2\n",
            "1                4.9               3.0                1.4               0.2\n",
            "2                4.7               3.2                1.3               0.2\n",
            "3                4.6               3.1                1.5               0.2\n",
            "4                5.0               3.6                1.4               0.2\n",
            "\n",
            "Min-Max Scaled Data (first 5 rows):\n",
            "   sepal length (cm)  sepal width (cm)  petal length (cm)  petal width (cm)\n",
            "0           0.222222          0.625000           0.067797          0.041667\n",
            "1           0.166667          0.416667           0.067797          0.041667\n",
            "2           0.111111          0.500000           0.050847          0.041667\n",
            "3           0.083333          0.458333           0.084746          0.041667\n",
            "4           0.194444          0.666667           0.067797          0.041667\n",
            "\n",
            "Standard Scaled Data (first 5 rows):\n",
            "   sepal length (cm)  sepal width (cm)  petal length (cm)  petal width (cm)\n",
            "0          -0.900681          1.019004          -1.340227         -1.315444\n",
            "1          -1.143017         -0.131979          -1.340227         -1.315444\n",
            "2          -1.385353          0.328414          -1.397064         -1.315444\n",
            "3          -1.506521          0.098217          -1.283389         -1.315444\n",
            "4          -1.021849          1.249201          -1.340227         -1.315444\n"
          ]
        }
      ],
      "source": [
        "import pandas as pd\n",
        "from sklearn import datasets\n",
        "from sklearn.preprocessing import MinMaxScaler, StandardScaler\n",
        "\n",
        "# Step 1: Load the Iris dataset from UCI (directly available in sklearn)\n",
        "iris = datasets.load_iris()\n",
        "df = pd.DataFrame(data=iris.data, columns=iris.feature_names)\n",
        "\n",
        "# Step 2: Apply Min-Max Scaling (Normalization)\n",
        "min_max_scaler = MinMaxScaler()\n",
        "df_min_max_scaled = min_max_scaler.fit_transform(df)\n",
        "\n",
        "# Step 3: Apply Standard Scaling (Standardization)\n",
        "standard_scaler = StandardScaler()\n",
        "df_standard_scaled = standard_scaler.fit_transform(df)\n",
        "\n",
        "# Convert the scaled data back to DataFrame for better visualization\n",
        "df_min_max_scaled = pd.DataFrame(df_min_max_scaled, columns=iris.feature_names)\n",
        "df_standard_scaled = pd.DataFrame(df_standard_scaled, columns=iris.feature_names)\n",
        "\n",
        "# Output results\n",
        "print(\"Original Data (first 5 rows):\")\n",
        "print(df.head())\n",
        "print(\"\\nMin-Max Scaled Data (first 5 rows):\")\n",
        "print(df_min_max_scaled.head())\n",
        "print(\"\\nStandard Scaled Data (first 5 rows):\")\n",
        "print(df_standard_scaled.head())"
      ]
    }
  ]
}